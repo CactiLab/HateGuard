{
 "cells": [
  {
   "cell_type": "code",
   "execution_count": 16,
   "metadata": {},
   "outputs": [],
   "source": [
    "import google.generativeai as genai\n",
    "import numpy as np\n",
    "import pandas as pd"
   ]
  },
  {
   "cell_type": "code",
   "execution_count": 8,
   "metadata": {},
   "outputs": [],
   "source": [
    "genai.configure(api_key=\"YOUR_API_KEY\")"
   ]
  },
  {
   "cell_type": "code",
   "execution_count": 12,
   "metadata": {},
   "outputs": [],
   "source": [
    "defaults = {\n",
    "  'model': 'models/text-bison-001',\n",
    "  'temperature': 0,\n",
    "  'candidate_count': 1,\n",
    "  'top_k': 40,\n",
    "  'top_p': 0.95,\n",
    "  'max_output_tokens': 1024,\n",
    "  'stop_sequences': [],\n",
    "  'safety_settings': [{\"category\":\"HARM_CATEGORY_DEROGATORY\",\"threshold\":4},\n",
    "                      {\"category\":\"HARM_CATEGORY_TOXICITY\",\"threshold\":4},\n",
    "                      {\"category\":\"HARM_CATEGORY_VIOLENCE\",\"threshold\":4},\n",
    "                      {\"category\":\"HARM_CATEGORY_SEXUAL\",\"threshold\":4},\n",
    "                      {\"category\":\"HARM_CATEGORY_MEDICAL\",\"threshold\":4},\n",
    "                      {\"category\":\"HARM_CATEGORY_DANGEROUS\",\"threshold\":4}],\n",
    "}"
   ]
  },
  {
   "cell_type": "code",
   "execution_count": 13,
   "metadata": {},
   "outputs": [],
   "source": [
    "text = \" \""
   ]
  },
  {
   "cell_type": "code",
   "execution_count": 14,
   "metadata": {},
   "outputs": [],
   "source": [
    "prompt = f\"\"\"Consider the following comment, and carefully answer the questions in each step to conclude whether it is hate speech or not: \n",
    "comment: \"{text}\"\n",
    "Let's think of it in the following steps:\n",
    "Q1A: Which of the following identities are mentioned in the text?\n",
    "'race', 'nationality', 'age', 'political', 'religion', ‘disability’, '(anti-)masker', '(anti-)vaxxer'\n",
    "Q1B: Are there any individuals mentioned explicitly by their name, answer 'Yes' or 'No'?\n",
    "Q2: Are there any derogatory, humiliating, insulting, or disparaging words or phrases specifically mentioned in the text? Answer 'Yes' or 'No'. (Note: Colloquially usage of the words should not be considered)\n",
    "Q3A: If Q2's answer is 'Yes', are those words or phrases directed towards or targeting your selected identities? Answer 'Yes' or 'No'.\n",
    "Q3B: If Q2's answer is 'Yes', are those words or phrases directed towards or targeting individuals? Answer 'Yes' or 'No'.\n",
    "Q4A: If Q3A's answer is 'Yes', do those terms incite hate against the selected identities? Answer 'Yes' or 'No'.\n",
    "Q4B: If Q3B's answer is 'Yes', do those terms incite hate against the individual? Answer 'Yes' or 'No'.\n",
    "Q5A: If Q4A’s answer is 'Yes', the comment can be concluded as identity hate speech. Tell me your final conclusion: 'Identity Hate' or 'Non-Hate'.\n",
    "Q5B: If Q4B’s answer is 'Yes', the comment can be concluded as individual hate speech. Tell me your final conclusion: 'Individual Hate' or 'Non-Hate'.\n",
    "Show your answers in the following format: ['Q1A': , 'Q1B&': , 'Q2': , 'Q3A': , 'Q3B': , 'Q4A': , 'Q4B': , 'Q5A': , 'Q5B': ]\n",
    "\"\"\".format(text=text)"
   ]
  },
  {
   "cell_type": "code",
   "execution_count": null,
   "metadata": {},
   "outputs": [],
   "source": [
    "response = genai.generate_text(\n",
    "  **defaults,\n",
    "  prompt=prompt\n",
    ")\n",
    "\n",
    "print(response.result)"
   ]
  },
  {
   "cell_type": "code",
   "execution_count": 19,
   "metadata": {},
   "outputs": [],
   "source": [
    "df = pd.read_csv(' ') # path to the data"
   ]
  },
  {
   "cell_type": "code",
   "execution_count": 36,
   "metadata": {},
   "outputs": [],
   "source": [
    "def prediction(text):\n",
    "    text = str(text.lower())\n",
    "    prompt = f\"\"\"Consider the following comment, and carefully answer the questions in each step to conclude whether it is hate speech or not: \n",
    "comment: \"{text}\"\n",
    "Let's think of it in the following steps:\n",
    "Q1A: Which of the following identities are mentioned in the text?\n",
    "'race', 'nationality', 'age', 'political', 'religion', ‘disability’, '(anti-)masker', '(anti-)vaxxer'\n",
    "Q1B: Are there any individuals mentioned explicitly by their name, answer 'Yes' or 'No'?\n",
    "Q2: Are there any derogatory, humiliating, insulting, or disparaging words or phrases specifically mentioned in the text? Answer 'Yes' or 'No'. (Note: Colloquially usage of the words should not be considered)\n",
    "Q3A: If Q2's answer is 'Yes', are those words or phrases directed towards or targeting your selected identities? Answer 'Yes' or 'No'.\n",
    "Q3B: If Q2's answer is 'Yes', are those words or phrases directed towards or targeting individuals? Answer 'Yes' or 'No'.\n",
    "Q4A: If Q3A's answer is 'Yes', do those terms incite hate against the selected identities? Answer 'Yes' or 'No'.\n",
    "Q4B: If Q3B's answer is 'Yes', do those terms incite hate against the individual? Answer 'Yes' or 'No'.\n",
    "Q5A: If Q4A’s answer is 'Yes', the comment can be concluded as identity hate speech. Tell me your final conclusion: 'Identity Hate' or 'Non-Hate'.\n",
    "Q5B: If Q4B’s answer is 'Yes', the comment can be concluded as individual hate speech. Tell me your final conclusion: 'Individual Hate' or 'Non-Hate'.\n",
    "Show your answers in the following format: [Q1A: , Q1B: , Q2: , Q3A: , Q3B: , Q4A: , Q4B: , Q5A: , Q5B: ]\n",
    "\"\"\".format(text=text)\n",
    "\n",
    "    # print(text)     \n",
    "    response = genai.generate_text(\n",
    "        **defaults,\n",
    "        prompt=prompt\n",
    "        )\n",
    "    result = response.result\n",
    "\n",
    "    return result"
   ]
  },
  {
   "cell_type": "code",
   "execution_count": 37,
   "metadata": {},
   "outputs": [],
   "source": [
    "# random sample 1000 comments from the dataset\n",
    "df = df.sample(n=1000, random_state=1)"
   ]
  },
  {
   "cell_type": "code",
   "execution_count": 38,
   "metadata": {},
   "outputs": [
    {
     "data": {
      "text/html": [
       "<div>\n",
       "<style scoped>\n",
       "    .dataframe tbody tr th:only-of-type {\n",
       "        vertical-align: middle;\n",
       "    }\n",
       "\n",
       "    .dataframe tbody tr th {\n",
       "        vertical-align: top;\n",
       "    }\n",
       "\n",
       "    .dataframe thead th {\n",
       "        text-align: right;\n",
       "    }\n",
       "</style>\n",
       "<table border=\"1\" class=\"dataframe\">\n",
       "  <thead>\n",
       "    <tr style=\"text-align: right;\">\n",
       "      <th></th>\n",
       "      <th>index</th>\n",
       "      <th>original_text</th>\n",
       "      <th>text</th>\n",
       "      <th>category</th>\n",
       "      <th>quarter</th>\n",
       "    </tr>\n",
       "    <tr>\n",
       "      <th>ground_truth</th>\n",
       "      <th></th>\n",
       "      <th></th>\n",
       "      <th></th>\n",
       "      <th></th>\n",
       "      <th></th>\n",
       "    </tr>\n",
       "  </thead>\n",
       "  <tbody>\n",
       "    <tr>\n",
       "      <th>0</th>\n",
       "      <td>608</td>\n",
       "      <td>608</td>\n",
       "      <td>608</td>\n",
       "      <td>608</td>\n",
       "      <td>608</td>\n",
       "    </tr>\n",
       "    <tr>\n",
       "      <th>1</th>\n",
       "      <td>392</td>\n",
       "      <td>392</td>\n",
       "      <td>392</td>\n",
       "      <td>392</td>\n",
       "      <td>392</td>\n",
       "    </tr>\n",
       "  </tbody>\n",
       "</table>\n",
       "</div>"
      ],
      "text/plain": [
       "              index  original_text  text  category  quarter\n",
       "ground_truth                                               \n",
       "0               608            608   608       608      608\n",
       "1               392            392   392       392      392"
      ]
     },
     "execution_count": 38,
     "metadata": {},
     "output_type": "execute_result"
    }
   ],
   "source": [
    "df.groupby('ground_truth').count()"
   ]
  },
  {
   "cell_type": "code",
   "execution_count": 40,
   "metadata": {},
   "outputs": [
    {
     "name": "stderr",
     "output_type": "stream",
     "text": [
      "100%|██████████| 1000/1000 [19:26<00:00,  1.17s/it]\n"
     ]
    }
   ],
   "source": [
    "from tqdm import tqdm\n",
    "tqdm.pandas()\n",
    "\n",
    "df['palm2_output'] = df['text'].progress_apply(prediction)"
   ]
  },
  {
   "cell_type": "code",
   "execution_count": 50,
   "metadata": {},
   "outputs": [],
   "source": [
    "df.to_csv('../data/results/palm2_output.csv', index=False)"
   ]
  },
  {
   "cell_type": "code",
   "execution_count": 47,
   "metadata": {},
   "outputs": [],
   "source": [
    "# get the label out\n",
    "def get_label(x):\n",
    "    x = str(x).lower()\n",
    "    # if there are 2 non-hate, then it is non-hate\n",
    "    if x.count('non-hate') >= 2:\n",
    "        return 0\n",
    "    else:\n",
    "        return 1\n",
    "    \n",
    "df['palm2_label'] = df['palm2_output'].apply(get_label)"
   ]
  },
  {
   "cell_type": "code",
   "execution_count": 48,
   "metadata": {},
   "outputs": [
    {
     "data": {
      "text/html": [
       "<div>\n",
       "<style scoped>\n",
       "    .dataframe tbody tr th:only-of-type {\n",
       "        vertical-align: middle;\n",
       "    }\n",
       "\n",
       "    .dataframe tbody tr th {\n",
       "        vertical-align: top;\n",
       "    }\n",
       "\n",
       "    .dataframe thead th {\n",
       "        text-align: right;\n",
       "    }\n",
       "</style>\n",
       "<table border=\"1\" class=\"dataframe\">\n",
       "  <thead>\n",
       "    <tr style=\"text-align: right;\">\n",
       "      <th></th>\n",
       "      <th>index</th>\n",
       "      <th>original_text</th>\n",
       "      <th>text</th>\n",
       "      <th>category</th>\n",
       "      <th>quarter</th>\n",
       "      <th>ground_truth</th>\n",
       "      <th>palm2_output</th>\n",
       "    </tr>\n",
       "    <tr>\n",
       "      <th>palm2_label</th>\n",
       "      <th></th>\n",
       "      <th></th>\n",
       "      <th></th>\n",
       "      <th></th>\n",
       "      <th></th>\n",
       "      <th></th>\n",
       "      <th></th>\n",
       "    </tr>\n",
       "  </thead>\n",
       "  <tbody>\n",
       "    <tr>\n",
       "      <th>0</th>\n",
       "      <td>708</td>\n",
       "      <td>708</td>\n",
       "      <td>708</td>\n",
       "      <td>708</td>\n",
       "      <td>708</td>\n",
       "      <td>708</td>\n",
       "      <td>708</td>\n",
       "    </tr>\n",
       "    <tr>\n",
       "      <th>1</th>\n",
       "      <td>292</td>\n",
       "      <td>292</td>\n",
       "      <td>292</td>\n",
       "      <td>292</td>\n",
       "      <td>292</td>\n",
       "      <td>292</td>\n",
       "      <td>289</td>\n",
       "    </tr>\n",
       "  </tbody>\n",
       "</table>\n",
       "</div>"
      ],
      "text/plain": [
       "             index  original_text  text  category  quarter  ground_truth  \\\n",
       "palm2_label                                                                \n",
       "0              708            708   708       708      708           708   \n",
       "1              292            292   292       292      292           292   \n",
       "\n",
       "             palm2_output  \n",
       "palm2_label                \n",
       "0                     708  \n",
       "1                     289  "
      ]
     },
     "execution_count": 48,
     "metadata": {},
     "output_type": "execute_result"
    }
   ],
   "source": [
    "df.groupby('palm2_label').count()"
   ]
  },
  {
   "cell_type": "code",
   "execution_count": 49,
   "metadata": {},
   "outputs": [
    {
     "name": "stdout",
     "output_type": "stream",
     "text": [
      "tp:  260\n",
      "fp:  32\n",
      "tn:  576\n",
      "fn:  132\n",
      "accuracy: ｜ precision: ｜ recall: ｜ f1 score: \n",
      "0.836 ｜ 0.8904109589041096 ｜ 0.6632653061224489 ｜ 0.7602339181286549\n"
     ]
    }
   ],
   "source": [
    "# check the accuracy, precision, recall, f1 score\n",
    "tp, fp, tn, fn = 0, 0, 0, 0\n",
    "for index, row in df.iterrows():\n",
    "    if row['ground_truth'] == 1:\n",
    "        if row['palm2_label'] == 1:\n",
    "            tp += 1\n",
    "        else:\n",
    "            fn += 1\n",
    "    else:\n",
    "        if row['palm2_label'] == 1:\n",
    "            fp += 1\n",
    "        else:\n",
    "            tn += 1\n",
    "\n",
    "print('tp: ', tp)\n",
    "print('fp: ', fp)\n",
    "print('tn: ', tn)\n",
    "print('fn: ', fn)\n",
    "\n",
    "accuracy = (tp + tn) / (tp + fp + tn + fn)\n",
    "print('accuracy: ｜ precision: ｜ recall: ｜ f1 score: ')\n",
    "print(accuracy, '｜', tp/(tp+fp), '｜', tp/(tp+fn), '｜', 2*tp/(2*tp+fp+fn))"
   ]
  }
 ],
 "metadata": {
  "kernelspec": {
   "display_name": "llama",
   "language": "python",
   "name": "python3"
  },
  "language_info": {
   "codemirror_mode": {
    "name": "ipython",
    "version": 3
   },
   "file_extension": ".py",
   "mimetype": "text/x-python",
   "name": "python",
   "nbconvert_exporter": "python",
   "pygments_lexer": "ipython3",
   "version": "3.9.16"
  }
 },
 "nbformat": 4,
 "nbformat_minor": 2
}
